{
 "cells": [
  {
   "cell_type": "markdown",
   "id": "73020800-4a21-4022-b03a-ec8b25a23767",
   "metadata": {},
   "source": [
    "# Math Foundations – Linear Algebra (Part 2)"
   ]
  },
  {
   "cell_type": "markdown",
   "id": "046fbf7e-7785-42c5-98b3-92dcb2f1bd07",
   "metadata": {},
   "source": [
    "---\n",
    "---\n",
    "\n",
    "## Task 1 Matrix Multiplication Rules:\n"
   ]
  },
  {
   "cell_type": "markdown",
   "id": "c8f74506-9933-48c7-8a64-13d7486eb24e",
   "metadata": {},
   "source": [
    "### Definition\n",
    "\n",
    "- Matrix multiplication combines two matrices to produce a new matrix. It’s a core operation in AI/ML, used in neural network layers (e.g., weight matrices × input vectors).\n",
    "\n",
    "- Notation: For matrices $ A $ (size $ m \\times n $) and $ B $ (size $ n \\times p $), the product $ C = A \\cdot B $ is a matrix of size $ m \\times p $.\n",
    "\n",
    "### Rules\n",
    "\n",
    "1. Dimension Compatibility:\n",
    "\n",
    "    - The number of columns in $ A $ ($ n $) must equal the number of rows in $ B $ ($ n $).\n",
    "    - Resulting matrix $ C $ has dimensions $ m \\times p $.\n",
    "\n",
    "2. Element Calculation:\n",
    "\n",
    "    = Each element $ C_{ij} $ in the resulting matrix is the dot product of the $ i $-th row of $ A $ and the $ j $-th column of $ B $:\n",
    "$$C_{ij} = \\sum_{k=1}^n A_{ik} \\cdot B_{kj}$$\n",
    "\n",
    "3. Non-Commutative:\n",
    "\n",
    "    - Matrix multiplication is not commutative: $ A \\cdot B \\neq B \\cdot A $ (in general).\n",
    "\n",
    "4. Associative and Distributive:\n",
    "\n",
    "    - Associative: $ (A \\cdot B) \\cdot C = A \\cdot (B \\cdot C) $.\n",
    "    - Distributive: $ A \\cdot (B + C) = A \\cdot B + A \\cdot C $.\n",
    "\n",
    "### Example\n",
    "\n",
    "- Matrices:\n",
    "$$A = \\begin{bmatrix} 1 & 2 \\\\ 3 & 4 \\end{bmatrix} \\text{(2×2)}, \\quad B = \\begin{bmatrix} 5 & 6 \\\\ 7 & 8 \\end{bmatrix} \\text{(2×2)}$$\n",
    "\n",
    "- Product $ C = A \\cdot B $\n",
    "$$C = \\begin{bmatrix} (1 \\cdot 5 + 2 \\cdot 7) & (1 \\cdot 6 + 2 \\cdot 8) \\\\ (3 \\cdot 5 + 4 \\cdot 7) & (3 \\cdot 6 + 4 \\cdot 8) \\end{bmatrix} = \\begin{bmatrix} 19 & 22 \\\\ 43 & 50 \\end{bmatrix}$$\n",
    "\n",
    "### AI/ML Relevance\n",
    "\n",
    "- Matrix multiplication is used in neural networks to compute weighted sums (e.g., input × weights) and in transformations like rotations or scaling in computer vision.\n",
    "\n",
    "### Python Implementation\n",
    "\n",
    "- Use NumPy’s np.dot() or @ operator for matrix multiplication."
   ]
  },
  {
   "cell_type": "code",
   "execution_count": 2,
   "id": "9460bcff-7dc3-430a-b201-152f592736cf",
   "metadata": {},
   "outputs": [
    {
     "data": {
      "text/plain": [
       "array([[19, 22],\n",
       "       [43, 50]])"
      ]
     },
     "execution_count": 2,
     "metadata": {},
     "output_type": "execute_result"
    }
   ],
   "source": [
    "import numpy as np\n",
    "\n",
    "# Define the Martices\n",
    "\n",
    "A = np.array([[1,2], [3,4]])\n",
    "B = np.array([[5,6], [7,8]])\n",
    "\n",
    "C = np.dot(A,B)\n",
    "C"
   ]
  },
  {
   "cell_type": "markdown",
   "id": "2b569e2c-2f79-47b9-a3d7-20441e1273db",
   "metadata": {},
   "source": [
    "---\n",
    "---\n",
    "## Task 2: Transpose of Matrix\n",
    "\n",
    "### Definition\n",
    "\n",
    "- The transpose of a matrix $ A $, denoted $ A^T $, swaps its rows and columns. If $ A $ is $ m \\times n $, then $ A^T $ is $ n \\times m $.\n",
    "- Rule: For element $ A_{ij} $ in the original matrix, the transposed element is $ A^T_{ji} $.\n",
    "\n",
    "### Properties\n",
    "\n",
    "- $ (A^T)^T = A $: Transposing twice returns the original matrix.\n",
    "- $ (A + B)^T = A^T + B^T $: Transpose of a sum is the sum of transposes.\n",
    "- $ (A \\cdot B)^T = B^T \\cdot A^T $: Transpose of a product reverses the order.\n",
    "\n",
    "### Example\n",
    "\n",
    "- Matrix:\n",
    "$$A = \\begin{bmatrix} 1 & 2 & 3 \\\\ 4 & 5 & 6 \\end{bmatrix} \\text{(2×3)}$$\n",
    "\n",
    "- Transpose:\n",
    "$$A^T = \\begin{bmatrix} 1 & 4 \\\\ 2 & 5 \\\\ 3 & 6 \\end{bmatrix} \\text{(3×2)}$$\n",
    "\n",
    "### AI/ML Relevance\n",
    "\n",
    "- Transposes are used in ML for operations like computing gradients, adjusting data formats, or in attention mechanisms (e.g., transformers in NLP).\n",
    "\n",
    "### Python Implementation\n",
    "\n",
    "Use NumPy’s .T attribute or np.transpose()."
   ]
  },
  {
   "cell_type": "code",
   "execution_count": 4,
   "id": "9ebc5d37-b6fa-4316-8252-856916579d35",
   "metadata": {},
   "outputs": [
    {
     "name": "stdout",
     "output_type": "stream",
     "text": [
      "Matrix A:\n",
      "[[1 2 3]\n",
      " [4 5 6]]\n",
      "\n",
      "Transpose A^T:\n",
      "[[1 4]\n",
      " [2 5]\n",
      " [3 6]]\n"
     ]
    }
   ],
   "source": [
    "import numpy as np\n",
    "\n",
    "A = np.array([[1, 2, 3], [4, 5, 6]])\n",
    "A_T = A.T\n",
    "\n",
    "print(\"Matrix A:\")\n",
    "print(A)\n",
    "print(\"\\nTranspose A^T:\")\n",
    "print(A_T)"
   ]
  },
  {
   "cell_type": "markdown",
   "id": "6d5cae1d-2dfa-4167-8722-30eeb97a54bc",
   "metadata": {},
   "source": [
    "---\n",
    "---\n",
    "\n",
    "## Task 3: Identity & Inverse Matrix Intuition\n",
    "\n",
    "### Identity Matrix\n",
    "\n",
    "- Definition: An identity matrix $ I $ is a square matrix (same number of rows and columns) with 1s on the main diagonal and 0s elsewhere. It acts like the number 1 in matrix multiplication.\n",
    "\n",
    "- Notation: Denoted $ I_n $ for an $ n \\times n $ matrix.\n",
    "Example (2×2):\n",
    "$$I_2 = \\begin{bmatrix} 1 & 0 \\\\ 0 & 1 \\end{bmatrix}$$\n",
    "\n",
    "- Property: For any matrix $ A $ (size $ m \\times n $), $ A \\cdot I_n = A $ and $ I_m \\cdot A = A $.\n",
    "\n",
    "- Intuition: It’s a “do-nothing” matrix, leaving the original matrix unchanged when multiplied (like multiplying a number by 1).\n",
    "\n",
    "- AI/ML Relevance: Used in initializing weights or solving linear systems in optimization.\n",
    "\n",
    "### Inverse Matrix\n",
    "\n",
    "- Definition: For a square matrix $ A $, its inverse $ A^{-1} $ (if it exists) satisfies:\n",
    "$$A \\cdot A^{-1} = I \\quad \\text{and} \\quad A^{-1} \\cdot A = I$$\n",
    "\n",
    "- Conditions:\n",
    "\n",
    "    - $ A $ must be square.\n",
    "    - $ A $ must be invertible (non-singular, i.e., its determinant $ \\det(A) \\neq 0 $).\n",
    "\n",
    "\n",
    "- Example (2×2 matrix):\n",
    "    - $$A = \\begin{bmatrix} 1 & 2 \\\\ 3 & 4 \\end{bmatrix}$$\n",
    "\n",
    "    - Determinant: $ \\det(A) = (1 \\cdot 4) - (2 \\cdot 3) = 4 - 6 = -2 \\neq 0 $, so invertible.\n",
    "    \n",
    "    - Inverse formula for 2×2 matrix $ \\begin{bmatrix} a & b \\\\ c & d \\end{bmatrix} $:\n",
    "$$A^{-1} = \\frac{1}{\\det(A)} \\begin{bmatrix} d & -b \\\\ -c & a \\end{bmatrix}$$\n",
    "$$A^{-1} = \\frac{1}{-2} \\begin{bmatrix} 4 & -2 \\\\ -3 & 1 \\end{bmatrix} = \\begin{bmatrix} -2 & 1 \\\\ 1.5 & -0.5 \\end{bmatrix}$$\n",
    "\n",
    "- Intuition: The inverse “undoes” the transformation of $ A $. If $ A $ scales or rotates a vector, $ A^{-1} $ reverses it.\n",
    "\n",
    "- AI/ML Relevance: Used in solving linear systems (e.g., least squares in regression) or computing gradients in optimization.\n",
    "\n",
    "\n",
    "### Python Implementation\n",
    "\n",
    "- Use np.eye() for identity matrix and np.linalg.inv() for inverse."
   ]
  },
  {
   "cell_type": "code",
   "execution_count": 6,
   "id": "04fcc86a-5135-465a-8fe1-7907ca4f4554",
   "metadata": {},
   "outputs": [
    {
     "name": "stdout",
     "output_type": "stream",
     "text": [
      "Itentity Matrix => [[1. 0.]\n",
      " [0. 1.]]\n",
      "\n",
      "Matrix A:\n",
      "[[1 2]\n",
      " [3 4]]\n",
      "\n",
      "Inverse A^-1:\n",
      "[[-2.   1. ]\n",
      " [ 1.5 -0.5]]\n",
      "\n",
      "Verification (A · A^-1 = I):\n",
      "[[1.0000000e+00 0.0000000e+00]\n",
      " [8.8817842e-16 1.0000000e+00]]\n"
     ]
    }
   ],
   "source": [
    "import numpy as np\n",
    "\n",
    "# Identity Matrix\n",
    "I = np.eye(2)\n",
    "print(f'Itentity Matrix => {I}')\n",
    "\n",
    "# Inverse Matrix\n",
    "A = np.array([[1,2], [3,4]])\n",
    "\n",
    "try:\n",
    "    A_inv = np.linalg.inv(A)\n",
    "    print(\"\\nMatrix A:\")\n",
    "    print(A)\n",
    "    print(\"\\nInverse A^-1:\")\n",
    "    print(A_inv)\n",
    "    print(\"\\nVerification (A · A^-1 = I):\")\n",
    "    print(np.dot(A, A_inv))  # Should be close to identity\n",
    "except np.linalg.LinAlgError:\n",
    "    print(\"Matrix is not invertible\")"
   ]
  },
  {
   "cell_type": "markdown",
   "id": "62909a8f-b750-402e-967f-7b1f11c54fda",
   "metadata": {},
   "source": [
    "---\n",
    "---\n",
    "## Project: Matrix Transformer\n",
    "\n",
    "### Project Description\n",
    "\n",
    "- Input: A matrix (2D list of numbers).\n",
    "- Output:\n",
    "\n",
    "    - The transpose of the matrix.\n",
    "    - The matrix multiplied by a scalar (e.g., 2).\n",
    "\n",
    "- Implementation: Use NumPy to compute the transpose and scalar multiplication, with error handling for invalid inputs.\n",
    "\n",
    "- Steps\n",
    "\n",
    "    - Convert the input 2D list to a NumPy array.\n",
    "    - Compute the transpose using .T or np.transpose().\n",
    "    - Perform scalar multiplication with a chosen scalar (e.g., 2).\n",
    "    - Return and display both results."
   ]
  },
  {
   "cell_type": "code",
   "execution_count": 15,
   "id": "a579faa7-53e2-4d96-aa61-27140852f2e0",
   "metadata": {},
   "outputs": [
    {
     "name": "stdout",
     "output_type": "stream",
     "text": [
      "\n",
      "[[1 2 3]\n",
      " [4 5 6]]\n",
      "\n",
      "Input Matrix:\n",
      "[[1 2 3]\n",
      " [4 5 6]]\n",
      "\n",
      "Transpose:\n",
      "[[1 4]\n",
      " [2 5]\n",
      " [3 6]]\n",
      "\n",
      "Scalar Multiplication (scalar = 2):\n",
      "[[ 2  4  6]\n",
      " [ 8 10 12]]\n"
     ]
    }
   ],
   "source": [
    "import numpy as np\n",
    "\n",
    "def matrix_transformer(matrix, scalar=2):\n",
    "    # Step 1: Convert input 2D list to array\n",
    "    try:\n",
    "        A = np.array(matrix, dtype=float)\n",
    "        print(f'\\n{A}\\n')\n",
    "        if A.ndim != 2:\n",
    "            raise ValueError(\"Input Must be 2D Matrix\")\n",
    "    except:\n",
    "        raise ValueError('Invalid Matrix Input')\n",
    "        \n",
    "    # Step 2: Compute Transpose\n",
    "    A_T = A.T\n",
    "    \n",
    "    # Step 3: Perform Scaler Multiplication\n",
    "    A_Scaler = scalar * A\n",
    "\n",
    "    return A_T, A_Scaler\n",
    "\n",
    "# Example Usage\n",
    "try:\n",
    "    input_matrix = [[1,2,3], [4,5,6]]\n",
    "    transpose, scaled = matrix_transformer(input_matrix, scalar=2)\n",
    "    \n",
    "    print(\"Input Matrix:\")\n",
    "    print(np.array(input_matrix))\n",
    "    print(\"\\nTranspose:\")\n",
    "    print(transpose)\n",
    "    print(\"\\nScalar Multiplication (scalar = 2):\")\n",
    "    print(scaled)\n",
    "    \n",
    "except ValueError as e:\n",
    "    print(f\"Error: {e}\")"
   ]
  },
  {
   "cell_type": "markdown",
   "id": "e3482614-1db6-492f-9dc1-26eb3b371225",
   "metadata": {},
   "source": []
  },
  {
   "cell_type": "markdown",
   "id": "6bd91d7d-1735-4ad5-8cca-923406018d16",
   "metadata": {},
   "source": []
  },
  {
   "cell_type": "markdown",
   "id": "37f96259-8520-40c8-974a-81b5939d216e",
   "metadata": {},
   "source": []
  },
  {
   "cell_type": "markdown",
   "id": "0d19ff7e-39f6-4e44-a340-b3ea672d79f2",
   "metadata": {},
   "source": []
  },
  {
   "cell_type": "markdown",
   "id": "4bdb5d14-e199-454a-be7e-f26088004047",
   "metadata": {},
   "source": []
  }
 ],
 "metadata": {
  "kernelspec": {
   "display_name": "Python 3 (ipykernel)",
   "language": "python",
   "name": "python3"
  },
  "language_info": {
   "codemirror_mode": {
    "name": "ipython",
    "version": 3
   },
   "file_extension": ".py",
   "mimetype": "text/x-python",
   "name": "python",
   "nbconvert_exporter": "python",
   "pygments_lexer": "ipython3",
   "version": "3.13.5"
  }
 },
 "nbformat": 4,
 "nbformat_minor": 5
}
