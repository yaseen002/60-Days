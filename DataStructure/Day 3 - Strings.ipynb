{
 "cells": [
  {
   "cell_type": "markdown",
   "id": "2f90a6f7-5d26-45db-9971-5e351a490670",
   "metadata": {},
   "source": [
    "# String\n",
    "---\n",
    "---"
   ]
  },
  {
   "cell_type": "markdown",
   "id": "5b39afed-1c84-4f73-8acb-8941903d3120",
   "metadata": {},
   "source": [
    "## What Are Strings?\n",
    "\n",
    "A string is a sequence of characters (e.g., letters, digits, symbols) stored in memory, often used to represent text. In Python, strings are implemented as a sequence of Unicode characters, making them versatile for handling various languages and symbols.\n",
    "\n",
    "### Key characteristics:\n",
    "\n",
    "- Sequence: Strings are ordered, so characters can be accessed by index (e.g., s[0] for the first character).\n",
    "- Contiguous Memory: In Python, strings are stored as a contiguous block of memory (like arrays), enabling O(1) access to characters by index.\n",
    "- Length: The number of characters in a string (accessed via len(s)).\n",
    "\n",
    "### Immutability in Python\n",
    "\n",
    "In Python, strings are immutable, meaning they cannot be modified after creation. Once a string is created, its contents cannot be changed in-place—you must create a new string to reflect changes.\n",
    "\n",
    "- **Why Immutable?**\n",
    "\n",
    "    - Safety: Prevents accidental modifications, making strings reliable for keys in dictionaries or other immutable-dependent structures.\n",
    "    - Memory Efficiency: Immutable strings can be reused (interned) by Python, saving memory for identical strings.\n",
    "    - Thread Safety: Immutability simplifies concurrent programming, as strings can’t change unexpectedly.\n",
    "\n",
    "- What Immutability Means:\n",
    "\n",
    "    - Operations like concatenation, slicing, or replacing characters create new strings rather than modifying the original.\n",
    "    - **Example**"
   ]
  },
  {
   "cell_type": "code",
   "execution_count": 2,
   "id": "22f895f2-e3bb-4a3f-b1cd-e699e058fe9c",
   "metadata": {},
   "outputs": [
    {
     "name": "stdout",
     "output_type": "stream",
     "text": [
      "Hello\n"
     ]
    }
   ],
   "source": [
    "s = \"hello\"\n",
    "# s[0] = \"H\"  # Error: TypeError: 'str' object does not support item assignment\n",
    "s = \"H\" + s[1:]  # Creates new string: \"Hello\"\n",
    "print(s)  # Output: Hello"
   ]
  },
  {
   "cell_type": "markdown",
   "id": "958e0ffe-738b-49c7-8857-2f408f066ae4",
   "metadata": {},
   "source": [
    "    - Here, s[0] = \"H\" fails because strings are immutable. Instead, we create a new string.\n",
    "\n",
    "- Memory Implications:\n",
    "\n",
    "    - Each modification (e.g., concatenation) allocates a new contiguous block of memory for the new string.\n",
    "    - Frequent modifications (e.g., in a loop) can be inefficient due to repeated memory allocation.\n",
    "    - Example"
   ]
  },
  {
   "cell_type": "code",
   "execution_count": 4,
   "id": "7ce38e89-1d1a-4ed1-84a0-d05325dd61a8",
   "metadata": {},
   "outputs": [
    {
     "name": "stdout",
     "output_type": "stream",
     "text": [
      "aaaaaaaaaaaaaaaaaaaaaaaaaaaaaaaaaaaaaaaaaaaaaaaaaaaaaaaaaaaaaaaaaaaaaaaaaaaaaaaaaaaaaaaaaaaaaaaaaaaaaaaaaaaaaaaaaaaaaaaaaaaaaaaaaaaaaaaaaaaaaaaaaaaaaaaaaaaaaaaaaaaaaaaaaaaaaaaaaaaaaaaaaaaaaaaaaaaaaaaaaaaaaaaaaaaaaaaaaaaaaaaaaaaaaaaaaaaaaaaaaaaaaaaaaaaaaaaaaaaaaaaaaaaaaaaaaaaaaaaaaaaaaaaaaaaaaaaaaaaaaaaaaaaaaaaaaaaaaaaaaaaaaaaaaaaaaaaaaaaaaaaaaaaaaaaaaaaaaaaaaaaaaaaaaaaaaaaaaaaaaaaaaaaaaaaaaaaaaaaaaaaaaaaaaaaaaaaaaaaaaaaaaaaaaaaaaaaaaaaaaaaaaaaaaaaaaaaaaaaaaaaaaaaaaaaaaaaaaaaaaaaaaaaaaaaaaaaaaaaaaaaaaaaaaaaaaaaaaaaaaaaaaaaaaaaaaaaaaaaaaaaaaaaaaaaaaaaaaaaaaaaaaaaaaaaaaaaaaaaaaaaaaaaaaaaaaaaaaaaaaaaaaaaaaaaaaaaaaaaaaaaaaaaaaaaaaaaaaaaaaaaaaaaaaaaaaaaaaaaaaaaaaaaaaaaaaaaaaaaaaaaaaaaaaaaaaaaaaaaaaaaaaaaaaaaaaaaaaaaaaaaaaaaaaaaaaaaaaaaaaaaaaaaaaaaaaaaaaaaaaaaaaaaaaaaaaaaaaaaaaaaaaaaaaaaaaaaaaaaaaaaaaaaaaaaaaaaaaaaaaaaaaaaaaaaaaaaaaaaaaaaaaaaaaaaaaaaaaaaaaaaaaaaaaaaaaaaaaaaaaaaaaaaaaaaaaaaaaaaaaaaaaaaaaaaaaaaaaaaaaaaaaaaaaaaaaaaaaaaaaaaaaaaaaaaaaaaaaaaaaaaaaaaaaaaaaaaaaaaaaaaaaaaaaaaaaaaaaaaa\n"
     ]
    }
   ],
   "source": [
    "s = \"\"\n",
    "for i in range(1000):\n",
    "    s += \"a\"  # Creates a new string each time, O(n²) time for n=1000\n",
    "print(s)"
   ]
  },
  {
   "cell_type": "markdown",
   "id": "b1cab435-e163-4110-bbc8-88a09530df83",
   "metadata": {},
   "source": [
    "    - Better approach: Use a list for modifications, then join:"
   ]
  },
  {
   "cell_type": "code",
   "execution_count": 6,
   "id": "28c5f0a8-b8fe-4a1a-90ab-ac767246861b",
   "metadata": {},
   "outputs": [
    {
     "data": {
      "text/plain": [
       "'aaaaaaaaaaaaaaaaaaaaaaaaaaaaaaaaaaaaaaaaaaaaaaaaaaaaaaaaaaaaaaaaaaaaaaaaaaaaaaaaaaaaaaaaaaaaaaaaaaaaaaaaaaaaaaaaaaaaaaaaaaaaaaaaaaaaaaaaaaaaaaaaaaaaaaaaaaaaaaaaaaaaaaaaaaaaaaaaaaaaaaaaaaaaaaaaaaaaaaaaaaaaaaaaaaaaaaaaaaaaaaaaaaaaaaaaaaaaaaaaaaaaaaaaaaaaaaaaaaaaaaaaaaaaaaaaaaaaaaaaaaaaaaaaaaaaaaaaaaaaaaaaaaaaaaaaaaaaaaaaaaaaaaaaaaaaaaaaaaaaaaaaaaaaaaaaaaaaaaaaaaaaaaaaaaaaaaaaaaaaaaaaaaaaaaaaaaaaaaaaaaaaaaaaaaaaaaaaaaaaaaaaaaaaaaaaaaaaaaaaaaaaaaaaaaaaaaaaaaaaaaaaaaaaaaaaaaaaaaaaaaaaaaaaaaaaaaaaaaaaaaaaaaaaaaaaaaaaaaaaaaaaaaaaaaaaaaaaaaaaaaaaaaaaaaaaaaaaaaaaaaaaaaaaaaaaaaaaaaaaaaaaaaaaaaaaaaaaaaaaaaaaaaaaaaaaaaaaaaaaaaaaaaaaaaaaaaaaaaaaaaaaaaaaaaaaaaaaaaaaaaaaaaaaaaaaaaaaaaaaaaaaaaaaaaaaaaaaaaaaaaaaaaaaaaaaaaaaaaaaaaaaaaaaaaaaaaaaaaaaaaaaaaaaaaaaaaaaaaaaaaaaaaaaaaaaaaaaaaaaaaaaaaaaaaaaaaaaaaaaaaaaaaaaaaaaaaaaaaaaaaaaaaaaaaaaaaaaaaaaaaaaaaaaaaaaaaaaaaaaaaaaaaaaaaaaaaaaaaaaaaaaaaaaaaaaaaaaaaaaaaaaaaaaaaaaaaaaaaaaaaaaaaaaaaaaaaaaaaaaaaaaaaaaaaaaaaaaaaaaaaaaaaaaaaaaaaaaaaaaaaaaaaaaaaaaaaaaaaaa'"
      ]
     },
     "execution_count": 6,
     "metadata": {},
     "output_type": "execute_result"
    }
   ],
   "source": [
    "chars = []\n",
    "for i in range(1000):\n",
    "    chars.append(\"a\")  # O(1) per append (amortized)\n",
    "s = \"\".join(chars)  # O(n) to join\n",
    "s"
   ]
  },
  {
   "cell_type": "markdown",
   "id": "7a6c10da-fecc-456b-8835-f086cd66b9ec",
   "metadata": {},
   "source": [
    "- Python-Specific Details:\n",
    "\n",
    "    - Strings are objects of the str class, stored as Unicode (UTF-8 internally in Python 3).\n",
    "    - Accessing a character (s[i]) is O(1) due to contiguous storage, like arrays.\n",
    "    - Strings are stored in a contiguous block, but immutability means operations like replace or upper return new strings.\n",
    "\n",
    "\n",
    "- Connection to DSA:\n",
    "\n",
    "    - Immutability affects algorithm design. For example, string manipulations often require extra space (O(n) for a new string of length n).\n",
    "    - Algorithms like substring search or pattern matching (e.g., KMP) treat strings as read-only sequences.\n",
    "    - In DSA problems, strings are often processed as arrays of characters, leveraging array-like indexing."
   ]
  },
  {
   "cell_type": "code",
   "execution_count": 7,
   "id": "42ef7f4b-6653-47ab-b560-4647d8cc7444",
   "metadata": {},
   "outputs": [
    {
     "name": "stdout",
     "output_type": "stream",
     "text": [
      "h\n",
      "HELLO\n",
      "True\n"
     ]
    }
   ],
   "source": [
    "s = \"hello\"\n",
    "print(s[0])  # O(1): Output: h\n",
    "s = s.upper()  # Creates new string: HELLO\n",
    "print(s)  # Output: HELLO\n",
    "id_before = id(\"hello\")\n",
    "s = \"hello\" + \" world\"  # New string\n",
    "print(id(s) != id_before)  # True: Different memory address"
   ]
  },
  {
   "cell_type": "markdown",
   "id": "9ff19f17-f367-478f-8942-f6512890084f",
   "metadata": {},
   "source": [
    "---\n",
    "---\n",
    "## Task 2: Common String Operation\n",
    "\n",
    "Strings support a variety of operations critical for DSA problems, such as concatenation, slicing, and more. Below are common operations, their Python implementations, and complexities."
   ]
  },
  {
   "cell_type": "markdown",
   "id": "5d153d1f-a1a8-4f32-9b7a-5c75c6731d21",
   "metadata": {},
   "source": [
    "### 1. Concatenation\n",
    "\n",
    "- Description: Combining two or more strings into one.\n",
    "\n",
    "- Python: Use + or join().\n",
    "\n",
    "- Example:"
   ]
  },
  {
   "cell_type": "code",
   "execution_count": 1,
   "id": "bd46e1b6-85b5-4ada-9333-f67ce1aa9244",
   "metadata": {},
   "outputs": [
    {
     "name": "stdout",
     "output_type": "stream",
     "text": [
      "hello world\n"
     ]
    }
   ],
   "source": [
    "s1 = \"hello\"\n",
    "s2 = \"world\"\n",
    "s3 = s1 + \" \" + s2  # New string: \"hello world\"\n",
    "print(s3)  # Output: hello world\n",
    "# Better for multiple strings:\n",
    "s4 = \"\".join([s1, \" \", s2])  # Same result"
   ]
  },
  {
   "cell_type": "markdown",
   "id": "4c1137fb-eba9-4aa7-83fd-10f0b18b586c",
   "metadata": {},
   "source": [
    "- **Time Complexity:**\n",
    "\n",
    "    - **+:** O(n), where n is the total length of the resulting string (due to copying into a new memory block).\n",
    "\n",
    "    - **join():** O(n), where n is the total length of all strings. More efficient for multiple concatenations.\n",
    "\n",
    "    - Looping with **+** (e.g., **s += \"a\"** in a loop) is O(n²) for n iterations, as each creates a new string.\n",
    "\n",
    "\n",
    "- **Space Complexity:** O(n) auxiliary for the new string.\n",
    "\n",
    "- **DSA Note:** Avoid repeated concatenation in loops; use join() or lists for efficiency."
   ]
  },
  {
   "cell_type": "markdown",
   "id": "7317aed7-2e34-4640-8224-0c9af00bd69e",
   "metadata": {},
   "source": [
    "### 2. Slicing\n",
    "\n",
    "- Description: Extracting a substring using start:end:step indices.\n",
    "\n",
    "- Python: s[start:end:step].\n",
    "\n",
    "- Example:"
   ]
  },
  {
   "cell_type": "code",
   "execution_count": 2,
   "id": "47782a5e-99da-4aeb-b2b8-68ebe34a9c71",
   "metadata": {},
   "outputs": [
    {
     "name": "stdout",
     "output_type": "stream",
     "text": [
      "hello\n",
      "dlrow olleh\n"
     ]
    }
   ],
   "source": [
    "s = \"hello world\"\n",
    "print(s[0:5])  # Output: hello\n",
    "print(s[::-1])  # Output: dlrow olleh (reverse)"
   ]
  },
  {
   "cell_type": "markdown",
   "id": "a9bbada6-17e7-4088-8058-966d3a33b22f",
   "metadata": {},
   "source": [
    "- **Time Complexity:** O(k), where k is the length of the slice (due to copying characters to a new string).\n",
    "\n",
    "- **Space Complexity:** O(k) auxiliary for the new substring.\n",
    "\n",
    "- **DSA Note:** Slicing is common in problems like palindrome checks or substring searches."
   ]
  },
  {
   "cell_type": "markdown",
   "id": "f464bd40-2783-4d61-a086-0743b4016367",
   "metadata": {},
   "source": [
    "### 3. Length\n",
    "\n",
    "- Description: Get the number of characters.\n",
    "- Python: len(s).\n",
    "- Example:"
   ]
  },
  {
   "cell_type": "code",
   "execution_count": 4,
   "id": "81a3f983-68e7-417a-ac05-7b5dc0843a38",
   "metadata": {},
   "outputs": [
    {
     "name": "stdout",
     "output_type": "stream",
     "text": [
      "5\n"
     ]
    }
   ],
   "source": [
    "s = \"hello\"\n",
    "print(len(s))  # Output: 5"
   ]
  },
  {
   "cell_type": "markdown",
   "id": "56e8def5-a00b-4527-b9d6-b87b2659b8df",
   "metadata": {},
   "source": [
    "- Time Complexity: O(1). Python stores the length internally.\n",
    "- Space Complexity: O(1) auxiliary.\n",
    "- DSA Note: Used in all string algorithms to determine bounds."
   ]
  },
  {
   "cell_type": "markdown",
   "id": "cf024953-f19e-42a6-8c92-07d90bd38ab5",
   "metadata": {},
   "source": [
    "### 4. Character Access\n",
    "\n",
    "- Description: Access a character at a specific index.\n",
    "- Python: s[i].\n",
    "- Example:\n",
    "\n"
   ]
  },
  {
   "cell_type": "code",
   "execution_count": 7,
   "id": "61b11982-97d6-41c5-9687-ddb375ca704d",
   "metadata": {},
   "outputs": [
    {
     "name": "stdout",
     "output_type": "stream",
     "text": [
      "l\n"
     ]
    }
   ],
   "source": [
    "pythons = \"hello\"\n",
    "print(s[2])  # Output: l"
   ]
  },
  {
   "cell_type": "markdown",
   "id": "0005f608-b5cf-467f-8982-91c09f25ed85",
   "metadata": {},
   "source": [
    "- Time Complexity: O(1). Contiguous memory allows direct address calculation.\n",
    "- Space Complexity: O(1) auxiliary.\n",
    "- DSA Note: Like array access, critical for algorithms like pattern matching."
   ]
  },
  {
   "cell_type": "markdown",
   "id": "19166d01-a6dd-451f-b505-3ffcee01cfac",
   "metadata": {},
   "source": [
    "### 5. Replace\n",
    "\n",
    "- Description: Replace occurrences of a substring with another.\n",
    "- Python: s.replace(old, new).\n",
    "- Example:"
   ]
  },
  {
   "cell_type": "code",
   "execution_count": 9,
   "id": "83245014-f3ed-43f8-9288-69d01cd1d6f9",
   "metadata": {},
   "outputs": [
    {
     "name": "stdout",
     "output_type": "stream",
     "text": [
      "hello\n"
     ]
    }
   ],
   "source": [
    "pythons = \"hello world\"\n",
    "print(s.replace(\"world\", \"Python\"))  # Output: hello Python"
   ]
  },
  {
   "cell_type": "markdown",
   "id": "54d1691a-5192-4f03-ae19-569aeedf325a",
   "metadata": {},
   "source": [
    "- Time Complexity: O(n) for scanning and creating a new string (n is string length).\n",
    "- Space Complexity: O(n) auxiliary for the new string.\n",
    "- DSA Note: Useful in text processing but costly for frequent changes due to immutability."
   ]
  },
  {
   "cell_type": "markdown",
   "id": "5b786566-cc86-4db9-8db3-ce771e90f269",
   "metadata": {},
   "source": [
    "### 6. Splitting and Joining\n",
    "\n",
    "- Description: Split a string into a list of substrings; join a list into a string.\n",
    "- Python: s.split(delimiter) and \"delimiter\".join(list).\n",
    "- Example:"
   ]
  },
  {
   "cell_type": "code",
   "execution_count": 11,
   "id": "8b99d631-ef58-48b4-a042-6827653d633a",
   "metadata": {},
   "outputs": [],
   "source": [
    "pythons = \"a,b,c\"\n",
    "words = s.split(\",\")  # Output: ['a', 'b', 'c']\n",
    "new_s = \"-\".join(words)  # Output: a-b-c"
   ]
  },
  {
   "cell_type": "markdown",
   "id": "e0088162-e5d1-469a-af28-3c71997e4d46",
   "metadata": {},
   "source": [
    "- Time Complexity:\n",
    "    - split: O(n) to scan and create substrings.\n",
    "    - join: O(n) for total length of strings.\n",
    "\n",
    "\n",
    "- Space Complexity: O(n) auxiliary for the list or new string.\n",
    "- DSA Note: Common in parsing or tokenizing input for algorithms."
   ]
  },
  {
   "cell_type": "markdown",
   "id": "999a6686-9ba6-44d6-9b27-938a74ae7a85",
   "metadata": {},
   "source": [
    "---\n",
    "---\n",
    "\n",
    "## Task 3: Substring Search Basics\n",
    "Substring search involves finding a smaller string (the pattern) within a larger string (the text) or determining if it exists. This is a core DSA problem with applications in text processing, search engines, and bioinformatics.\n",
    "\n",
    "### Key Concepts\n",
    "\n",
    "- Problem: Given a text T (length n) and pattern P (length m), find the starting index of P in T (or all occurrences) or return -1 if not found.\n",
    "- Naive Approach: Check each position in the text to see if the pattern matches.\n",
    "- Advanced Algorithms: KMP, Rabin-Karp, or Boyer-Moore improve efficiency for large texts.\n",
    "\n",
    "### Naive Substring Search\n",
    "\n",
    "- How It Works:\n",
    "\n",
    "- Iterate through each possible starting position in the text (0 to n-m).\n",
    "- For each position, check if the pattern matches by comparing characters.\n",
    "\n",
    "\n",
    "### Python Implementation:"
   ]
  },
  {
   "cell_type": "code",
   "execution_count": 15,
   "id": "58eead02-eebd-4bbb-b970-1504d9bc5425",
   "metadata": {},
   "outputs": [
    {
     "name": "stdout",
     "output_type": "stream",
     "text": [
      "6\n"
     ]
    }
   ],
   "source": [
    "def naive_substring_search(text, pattern):\n",
    "    n, m = len(text), len(pattern)\n",
    "    if m > n:\n",
    "        return -1\n",
    "    for i in range(n - m + 1):\n",
    "        j = 0\n",
    "        while j < m and text[i + j] == pattern[j]:\n",
    "            j += 1\n",
    "        if j == m:\n",
    "            return i\n",
    "    return -1\n",
    "\n",
    "\n",
    "text = \"hello world\"\n",
    "pattern = 'world'\n",
    "print(naive_substring_search(text, pattern))"
   ]
  },
  {
   "cell_type": "markdown",
   "id": "effeb553-a3f1-43df-8a68-f25be5944afa",
   "metadata": {},
   "source": [
    "- Time Complexity: O(n * m).\n",
    "    - For each of the n-m+1 positions, compare up to m characters.\n",
    "    - Worst case: Every position requires checking all m characters (e.g., text=\"aaaa\", pattern=\"aaa\").\n",
    "\n",
    "- Space Complexity: O(1) auxiliary. Only uses a few variables.\n",
    "\n",
    "- Why Inefficient?: Repeated comparisons and no reuse of prior matches."
   ]
  },
  {
   "cell_type": "markdown",
   "id": "85b9fd1c-524d-4cda-98d0-48795782e48a",
   "metadata": {},
   "source": [
    "### Better Approach: KMP Algorithm (Introduction)\n",
    "The Knuth-Morris-Pratt (KMP) algorithm improves efficiency by avoiding redundant comparisons using a prefix table (or failure function) to skip positions.\n",
    "\n",
    "- How It Works:\n",
    "\n",
    "    - Preprocess the pattern to create a table indicating how many characters can be skipped when a mismatch occurs.\n",
    "    - Use the table to slide the pattern efficiently during the search.\n",
    "\n",
    "\n",
    "- Python Implementation (Simplified):"
   ]
  },
  {
   "cell_type": "code",
   "execution_count": 16,
   "id": "fe245505-bbbb-491f-8144-ce76174b779c",
   "metadata": {},
   "outputs": [
    {
     "name": "stdout",
     "output_type": "stream",
     "text": [
      "6\n"
     ]
    }
   ],
   "source": [
    "def build_kmp_table(pattern):\n",
    "    m = len(pattern)\n",
    "    table = [0] * m\n",
    "    j = 0\n",
    "    for i in range(1, m):\n",
    "        while j > 0 and pattern[i] != pattern[j]:\n",
    "            j = table[j - 1]\n",
    "        if pattern[i] == pattern[j]:\n",
    "            j += 1\n",
    "        table[i] = j\n",
    "    return table\n",
    "\n",
    "def kmp_search(text, pattern):\n",
    "    n, m = len(text), len(pattern)\n",
    "    if m == 0:\n",
    "        return 0\n",
    "    table = build_kmp_table(pattern)\n",
    "    j = 0  # Pattern index\n",
    "    for i in range(n):\n",
    "        while j > 0 and text[i] != pattern[j]:\n",
    "            j = table[j - 1]\n",
    "        if text[i] == pattern[j]:\n",
    "            j += 1\n",
    "        if j == m:\n",
    "            return i - m + 1  # Found at index i-m+1\n",
    "    return -1\n",
    "\n",
    "# Example\n",
    "text = \"hello world\"\n",
    "pattern = \"world\"\n",
    "print(kmp_search(text, pattern))  # Output: 6"
   ]
  },
  {
   "cell_type": "markdown",
   "id": "5746f120-8467-4ac3-9171-429edc67bfb2",
   "metadata": {},
   "source": [
    "- Time Complexity:\n",
    "\n",
    "    - Table construction: O(m).\n",
    "    - Search: O(n).\n",
    "    - Total: O(n + m), much better than O(n * m).\n",
    "\n",
    "- Space Complexity: O(m) auxiliary for the prefix table.\n",
    "- Why Efficient?: The table allows skipping redundant comparisons by leveraging pattern structure."
   ]
  },
  {
   "cell_type": "markdown",
   "id": "cd98c8d2-682d-4b35-86cd-7e50c8622b7b",
   "metadata": {},
   "source": [
    "Connection to DSA and Arrays\n",
    "\n",
    "- Strings as Arrays: Strings are treated like arrays of characters in substring search, with O(1) access to text[i] or pattern[j] due to contiguous memory.\n",
    "- Sliding Window: Substring search is related to sliding window techniques (Task 3 from Day 2). The naive method slides a window of size m over the text; KMP optimizes this sliding.\n",
    "- Immutability: String immutability ensures the text and pattern remain unchanged, simplifying algorithms but requiring new strings for modifications (e.g., preprocessing)."
   ]
  },
  {
   "cell_type": "markdown",
   "id": "6139f5aa-56a9-46b9-a4d6-388ace6bd4b3",
   "metadata": {},
   "source": []
  },
  {
   "cell_type": "markdown",
   "id": "39caf84d-867a-478b-b66e-21249c55e6e7",
   "metadata": {},
   "source": []
  },
  {
   "cell_type": "markdown",
   "id": "283aa5e7-a9d0-4bf8-b84a-e049178d6b84",
   "metadata": {},
   "source": []
  },
  {
   "cell_type": "markdown",
   "id": "a3e38286-e962-4f57-ba68-922423798ec7",
   "metadata": {},
   "source": []
  },
  {
   "cell_type": "markdown",
   "id": "a3873f31-2c03-4cec-8da5-d719c2fb2f52",
   "metadata": {},
   "source": []
  }
 ],
 "metadata": {
  "kernelspec": {
   "display_name": "Python 3 (ipykernel)",
   "language": "python",
   "name": "python3"
  },
  "language_info": {
   "codemirror_mode": {
    "name": "ipython",
    "version": 3
   },
   "file_extension": ".py",
   "mimetype": "text/x-python",
   "name": "python",
   "nbconvert_exporter": "python",
   "pygments_lexer": "ipython3",
   "version": "3.13.5"
  }
 },
 "nbformat": 4,
 "nbformat_minor": 5
}
