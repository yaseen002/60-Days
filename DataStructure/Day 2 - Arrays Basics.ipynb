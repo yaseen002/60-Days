{
 "cells": [
  {
   "cell_type": "markdown",
   "id": "eef635c7-34fc-4377-92c2-165d666877ba",
   "metadata": {},
   "source": [
    "# Arrays Basic\n",
    "\n",
    "---\n",
    "---\n",
    "## Task 1. What are **Arrays** and **Memory Layout**\n",
    "\n",
    "An array is a fundamental data structure used in programming to store a collection of elements, all of the same data type (e.g., integers, floats), in a contiguous block of memory **{A contiguous block of memory refers to a sequence of memory locations that are stored next to each other in a computer's memory, with no gaps or interruptions between them.}.**\n",
    "\n",
    "Each element in the array is accessed using an index, which represents its position in the sequence. Arrays are widely used in Data Structures and Algorithms (DSA) because they provide a simple and efficient way to organize and access data.\n",
    "\n",
    "### Key characteristics of arrays:\n",
    "\n",
    "Fixed Size: In many languages (e.g., C, Java), arrays have a fixed size determined at creation. In Python, \"arrays\" are often implemented as dynamic lists, but we'll focus on the concept of fixed-size arrays for DSA.\n",
    "Homogeneous Elements: All elements are of the same type (in true arrays, unlike Python lists which can mix types).\n",
    "Indexed Access: Elements are accessed via indices, starting at 0 (e.g., arr[0] is the first element).\n",
    "Efficient Access: Accessing an element by index is O(1) (constant time) because of how arrays are stored in memory.\n",
    "\n",
    "### In Python:\n",
    "\n",
    "Python doesn't have true arrays like C or Java. Instead, it uses lists (dynamic arrays) or the array module for more array-like behavior.\n",
    "\n",
    "#### Example using Python list (behaves like a dynamic array):"
   ]
  },
  {
   "cell_type": "code",
   "execution_count": 1,
   "id": "a247cdda-9f05-43fb-87cb-dd63b175fcfc",
   "metadata": {},
   "outputs": [
    {
     "name": "stdout",
     "output_type": "stream",
     "text": [
      "30\n"
     ]
    }
   ],
   "source": [
    "arr = [10, 20, 30, 40]  # A \"list\" acting as an array\n",
    "print(arr[2])  # Outputs: 30 (accessing index 2)"
   ]
  },
  {
   "cell_type": "markdown",
   "id": "cd161576-d724-4f13-b28a-a49fad9f0955",
   "metadata": {},
   "source": [
    "#### Example using array module (closer to traditional arrays):"
   ]
  },
  {
   "cell_type": "code",
   "execution_count": 2,
   "id": "8c2004b5-37d6-48c3-b87f-9cb3d96dc6d1",
   "metadata": {},
   "outputs": [
    {
     "name": "stdout",
     "output_type": "stream",
     "text": [
      "30\n"
     ]
    }
   ],
   "source": [
    "from array import array\n",
    "arr = array('i', [10, 20, 30, 40])  # 'i' for integer type\n",
    "print(arr[2])  # Outputs: 30"
   ]
  },
  {
   "cell_type": "markdown",
   "id": "544c9660-8af4-49f1-9359-a27ec2872898",
   "metadata": {},
   "source": [
    "Python lists are dynamic (can resize), but for DSA, we often assume fixed-size arrays to align with standard algorithms.\n",
    "\n",
    "#### Use Cases:\n",
    "\n",
    "- Storing a sequence of numbers (e.g., test scores).\n",
    "- Implementing other data structures like stacks, queues, or matrices.\n",
    "- Efficiently accessing elements in sorting or searching algorithms.\n",
    "\n",
    "### Memory Layout of Arrays\n",
    "The memory layout is what makes arrays efficient and is critical to understanding their behavior in DSA.\n",
    "\n",
    "#### 1. Contiguous Memory Allocation:\n",
    "\n",
    "    - Arrays store elements in a continuous block of memory. Each element occupies a fixed amount of space (e.g., 4 bytes for an integer in many systems).\n",
    "    \n",
    "    - This allows the computer to calculate the memory address of any element quickly using the formula:\n",
    "$$\\text{Address of arr[i]} = \\text{Base Address} + (i \\times \\text{Size of each element})$$\n",
    "\n",
    "    - Base Address: The memory address of the first element (arr[0]).\n",
    "    - i: The index of the element.\n",
    "    - Size of each element: Depends on the data type (e.g., 4 bytes for int, 8 bytes for double).\n",
    "\n",
    "\n",
    "    - Example: For an integer array starting at address 1000, with 4 bytes per int:\n",
    "\n",
    "        - arr[0] is at 1000.\n",
    "        - arr[1] is at 1000 + 4 = 1004.\n",
    "        - arr[2] is at 1000 + 8 = 1008.\n",
    "\n",
    "#### 2. Why Contiguous Memory Matters:\n",
    "\n",
    "- Constant-Time Access (O(1)): Because elements are stored contiguously, the CPU can directly compute the address of arr[i] without iterating, making access very fast.\n",
    "- Cache Efficiency: Modern CPUs load memory in chunks (cache lines). Since array elements are next to each other, accessing one element often brings nearby elements into the cache, speeding up subsequent accesses.\n",
    "- Predictable Storage: Unlike linked lists (where elements are scattered), arrays use a predictable amount of memory: size_of_element × number_of_elements.\n",
    "\n",
    "\n",
    "#### 3. Visualizing Memory Layout:\n",
    "Imagine an array arr = [10, 20, 30, 40] of integers (4 bytes each):\n",
    "\n",
    "   ```\n",
    "   Memory Address:  1000    1004    1008    1012\n",
    "   Index:           arr[0]  arr[1]  arr[2]  arr[3]\n",
    "   Value:           10      20      30      40\n",
    "   ```\n",
    "- Each element is stored right after the previous one.\n",
    "- Accessing arr[2] (30) involves: 1000 + (2 × 4) = 1008.\n",
    "\n",
    "#### 4. Python's List VS True Arrays:\n",
    "- Python Lists: Not true arrays. They store pointers to objects, not the objects themselves, leading to less predictable memory layout. Each pointer is contiguous, but the actual data (e.g., integers) may be scattered in memory.\n",
    "\n",
    "    - Example: lst = [1, 2, 3] stores pointers at contiguous addresses, but each integer object might be elsewhere.\n",
    "    - Memory overhead: Lists use more memory due to pointers and dynamic resizing.\n",
    "\n",
    "- **array Module:** Closer to true arrays, storing raw data (e.g., integers) contiguously, like C arrays. More memory-efficient but less flexible (fixed type, less dynamic).\n",
    "- For DSA, we often assume fixed-size, contiguous arrays to simplify complexity analysis.\n",
    "\n",
    "\n",
    "#### 5. Pros and Cons of Arrays:\n",
    "\n",
    "- **Pros:**\n",
    "\n",
    "- Fast element access (O(1)).\n",
    "- Memory-efficient for fixed-size data (no overhead like linked lists).\n",
    "- Simple to implement and understand.\n",
    "\n",
    "- **Cons:**\n",
    "\n",
    "- Fixed size (in true arrays; Python lists mitigate this but add overhead).\n",
    "- Insertions/deletions are slow (O(n)) because elements must be shifted.\n",
    "- Wastes memory if not fully utilized.\n",
    "\n",
    "#### 6. Practical Implications in DSA:\n",
    "\n",
    "- **Access:** O(1) makes arrays ideal for random access in algorithms like binary search.\n",
    "- **Sorting:** Algorithms like Quick Sort or Merge Sort often operate on arrays.\n",
    "- **Space Complexity:** Usually O(n) for the array itself, plus auxiliary space for algorithms (e.g., O(1) for in-place sorts like Bubble Sort, O(n) for Merge Sort).\n",
    "- **Python Tip:** Use array.array for memory-critical applications or NumPy arrays for numerical computations, as they’re closer to true arrays than lists.\n",
    "\n",
    "\n",
    "#### Example: Memory Layout in Action\n",
    "Let’s see how array access works in Python using the array module, with a nod to memory efficiency:"
   ]
  },
  {
   "cell_type": "code",
   "execution_count": 3,
   "id": "8f3057a1-a3ef-42e8-bc61-f3e1ea30452e",
   "metadata": {},
   "outputs": [
    {
     "name": "stdout",
     "output_type": "stream",
     "text": [
      "Element at index 2: 30\n",
      "Memory address of arr: 139968299701520\n",
      "Size in bytes: 16\n"
     ]
    }
   ],
   "source": [
    "from array import array\n",
    "\n",
    "# Create an integer array\n",
    "arr = array('i', [10, 20, 30, 40])\n",
    "print(f\"Element at index 2: {arr[2]}\")  # O(1) access\n",
    "print(f\"Memory address of arr: {arr.buffer_info()[0]}\")  # Base address\n",
    "print(f\"Size in bytes: {arr.buffer_info()[1] * arr.itemsize}\")  # Total bytes"
   ]
  },
  {
   "cell_type": "markdown",
   "id": "b58a6386-3e23-445f-a39d-a584ef64d36e",
   "metadata": {},
   "source": [
    "- **buffer_info()** shows the base address and number of elements.\n",
    "- **itemsize** is the size of each element (4 bytes for 'i').\n",
    "- Accessing **arr[2]** is O(1) because Python computes the address directly.\n",
    "\n",
    "#### Connection to DSA\n",
    "\n",
    "- Time Complexity: Array access (get/set) is O(1), but operations like inserting at the start (shifting elements) are O(n).\n",
    "- Space Complexity: Arrays use O(n) space for n elements. In Python, lists add overhead (pointers, dynamic resizing).\n",
    "- Why Learn This? Understanding memory layout helps optimize algorithms (e.g., choosing arrays for fast access over linked lists for frequent insertions). It also prepares you for tasks like analyzing loop complexities or implementing array-based structures like stacks."
   ]
  },
  {
   "cell_type": "markdown",
   "id": "e560fa42-34b8-4b17-b305-30402bec397b",
   "metadata": {},
   "source": [
    "---\n",
    "---\n",
    "\n",
    "## Task 2: Array Operations (Insert, Delete, Search)\n",
    "\n",
    "### 1. Insert\n",
    "Definition: Adding an element to an array at a specific index or at the end.\n",
    "\n",
    "#### Types of Insertion:\n",
    "\n",
    "- At the End (Append): Add an element to the last position.\n",
    "- At the Beginning: Add an element at index 0, shifting all other elements right.\n",
    "- At a Specific Index: Insert an element at a given index, shifting subsequent elements right.\n",
    "\n",
    "\n",
    "How It Works:\n",
    "\n",
    "Arrays store elements in a contiguous block of memory (as discussed in the previous task). Inserting an element requires maintaining this contiguity.\n",
    "For insertion at the beginning or middle, all elements after the insertion point must be shifted to make space, which is costly.\n",
    "Appending to the end is usually fast unless the array is full (in fixed-size arrays) or requires resizing (in dynamic arrays like Python lists)."
   ]
  },
  {
   "cell_type": "code",
   "execution_count": 8,
   "id": "10a16afa-f2e8-46eb-983f-d00733308301",
   "metadata": {},
   "outputs": [
    {
     "name": "stdout",
     "output_type": "stream",
     "text": [
      "[10, 20, 30, 40, 50]\n",
      "[5, 10, 20, 30, 40, 50]\n",
      "[5, 10, 25, 20, 30, 40, 50]\n"
     ]
    }
   ],
   "source": [
    "def insert_at_end(arr, value):\n",
    "    arr.append(value)\n",
    "    return arr\n",
    "\n",
    "def insert_at_beginning(arr, value):\n",
    "    arr.insert(0, value)\n",
    "    return arr\n",
    "\n",
    "def insert_at_index(arr, index, value):\n",
    "    arr.insert(index, value)\n",
    "    return arr\n",
    "arr = [10,20,30,40]\n",
    "print(insert_at_end(arr, 50))\n",
    "print(insert_at_beginning(arr, 5))\n",
    "print(insert_at_index(arr, 2, 25))"
   ]
  },
  {
   "cell_type": "markdown",
   "id": "f0050197-5b52-4ccf-8180-2cac46c0ce42",
   "metadata": {},
   "source": [
    "#### Time Complexity:\n",
    "\n",
    "- Append (at end): O(1) amortized. Python lists dynamically resize (doubling capacity when full), so occasional resizing is O(n), but averaged over many appends, it’s O(1).\n",
    "- Insert at beginning or index: O(n). All elements from the insertion point to the end must shift right, requiring up to n operations.\n",
    "- Fixed-size arrays (e.g., array.array): If full, insertion requires creating a new larger array and copying (O(n)). Appending isn’t possible without resizing.\n",
    "\n",
    "#### Space Complexity:\n",
    "\n",
    "- O(1) auxiliary space (Auxiliary space refers to the extra memory or temporary space used by an algorithm during its execution, beyond the memory required to store the input data itself. In the context of Data Structures and Algorithms (DSA)) for the operation itself (excluding input array).\n",
    "- For dynamic arrays, resizing may temporarily use O(n) extra space.\n",
    "\n",
    "#### Considerations:\n",
    "\n",
    "- Insertions are inefficient in arrays compared to linked lists (O(1) for insertion at a known position).\n",
    "- In Python, list.insert() handles shifting automatically but is slow for large arrays.\n",
    "- For frequent insertions, consider other structures like linked lists or trees."
   ]
  },
  {
   "cell_type": "markdown",
   "id": "9f111716-baca-4d8d-bf36-de39128fce5c",
   "metadata": {},
   "source": [
    "### 2. Delete\n",
    "\n",
    "- Definition: Removing an element from an array at a specific index or value.\n",
    "\n",
    "#### Types of Deletion:\n",
    "\n",
    "- From the End (Pop): Remove the last element.\n",
    "- From the Beginning: Remove the first element, shifting all others left.\n",
    "- At a Specific Index: Remove an element at a given index, shifting subsequent elements left.\n",
    "- By Value: Find and remove the first occurrence of a value.\n",
    "\n",
    "\n",
    "**How It Works:**\n",
    "\n",
    "- Deletion requires maintaining the contiguous memory layout.\n",
    "- Removing from the end is simple (just reduce the size counter).\n",
    "- Removing from the beginning or middle requires shifting elements left to fill the gap, which is costly.\n",
    "\n",
    "\n",
    "#### Python Implementation (Using a List):"
   ]
  },
  {
   "cell_type": "code",
   "execution_count": 9,
   "id": "5e0fac6e-1fbc-402e-9882-b5c20759fd0e",
   "metadata": {},
   "outputs": [
    {
     "name": "stdout",
     "output_type": "stream",
     "text": [
      "[10, 20, 30]\n",
      "[20, 30]\n",
      "[20]\n",
      "[10, 20, 30]\n"
     ]
    }
   ],
   "source": [
    "def delete_at_end(arr):\n",
    "    arr.pop()  # O(1)\n",
    "    return arr\n",
    "\n",
    "def delete_at_beginning(arr):\n",
    "    arr.pop(0)  # O(n) due to shifting\n",
    "    return arr\n",
    "\n",
    "def delete_at_index(arr, index):\n",
    "    arr.pop(index)  # O(n) due to shifting\n",
    "    return arr\n",
    "\n",
    "def delete_by_value(arr, value):\n",
    "    if value in arr:\n",
    "        arr.remove(value)  # O(n) due to search + shifting\n",
    "    return arr\n",
    "\n",
    "# Example\n",
    "arr = [10, 20, 30, 40]\n",
    "print(delete_at_end(arr))  # [10, 20, 30]\n",
    "print(delete_at_beginning(arr))  # [20, 30]\n",
    "print(delete_at_index(arr, 1))  # [20]\n",
    "print(delete_by_value([10, 20, 20, 30], 20))  # [10, 20, 30]"
   ]
  },
  {
   "cell_type": "markdown",
   "id": "e3cd1b23-6e74-4ccf-b1ab-e184eca036ce",
   "metadata": {},
   "source": [
    "#### Time Complexity:\n",
    "\n",
    "- Delete at end (pop): O(1). Just update the size; no shifting needed.\n",
    "- Delete at beginning or index: O(n). All elements after the deleted element must shift left.\n",
    "- Delete by value: O(n). Requires a linear search (O(n)) to find the value, then O(n) for shifting.\n",
    "- Fixed-size arrays: Deletion doesn’t resize the array (just marks the slot as unused), but shifting is still O(n).\n",
    "\n",
    "#### Space Complexity:\n",
    "\n",
    "- O(1) auxiliary space (excluding input array).\n",
    "- Python lists may shrink (rarely) to save memory, but this is implementation-dependent and still O(1) auxiliary for the operation.\n",
    "\n",
    "#### Considerations:\n",
    "\n",
    "- Deletions are inefficient for large arrays due to shifting.\n",
    "- If frequent deletions are needed, consider linked lists (O(1) for deletion at a known node)."
   ]
  },
  {
   "cell_type": "markdown",
   "id": "a208af6e-155a-476b-b8af-a2e0c97ed777",
   "metadata": {},
   "source": [
    "### 3. Search\n",
    "\n",
    "- Definition: Finding an element in an array by its value or determining its index.\n",
    "\n",
    "#### Types of Search:\n",
    "\n",
    "- Linear Search: Check each element sequentially (used for unsorted arrays).\n",
    "- Binary Search: For sorted arrays, divide the search space in half repeatedly.\n",
    "\n",
    "How It Works:\n",
    "\n",
    "- Linear Search: Iterate through the array until the target is found or the end is reached.\n",
    "- Binary Search: Requires a sorted array. Compare the middle element to the target, then search either the left or right half, halving the search space each step.\n",
    "\n",
    "\n",
    "#### Python Implementation:"
   ]
  },
  {
   "cell_type": "code",
   "execution_count": 10,
   "id": "6cda2848-eae4-4972-99fa-1971b82c6d84",
   "metadata": {},
   "outputs": [
    {
     "name": "stdout",
     "output_type": "stream",
     "text": [
      "2\n",
      "2\n"
     ]
    }
   ],
   "source": [
    "def linear_search(arr, target):\n",
    "    for i in range(len(arr)):\n",
    "        if arr[i] == target:\n",
    "            return i  # Return index if found\n",
    "    return -1  # Not found\n",
    "\n",
    "def binary_search(arr, target):\n",
    "    low, high = 0, len(arr) - 1\n",
    "    while low <= high:\n",
    "        mid = (low + high) // 2\n",
    "        if arr[mid] == target:\n",
    "            return mid\n",
    "        elif arr[mid] < target:\n",
    "            low = mid + 1\n",
    "        else:\n",
    "            high = mid - 1\n",
    "    return -1  # Not found\n",
    "\n",
    "# Example\n",
    "arr = [10, 20, 30, 40]\n",
    "print(linear_search(arr, 30))  # 2\n",
    "sorted_arr = [10, 20, 30, 40, 50]  # Must be sorted for binary search\n",
    "print(binary_search(sorted_arr, 30))  # 2"
   ]
  },
  {
   "cell_type": "markdown",
   "id": "6c15a8cf-dddd-4315-a3b7-d1a5c50c5943",
   "metadata": {},
   "source": [
    "#### Time Complexity:\n",
    "\n",
    "- Linear Search: O(n). Checks up to n elements in the worst case (target not present or at the end).\n",
    "- Binary Search: O(log n). Each step halves the search space, so it takes log₂(n) steps (requires sorted array).\n",
    "- Best Case: Linear search is O(1) if the target is at index 0; binary search is O(1) if the target is the middle element.\n",
    "\n",
    "#### Space Complexity:\n",
    "\n",
    "- Both linear and binary search use O(1) auxiliary space (just a few variables).\n",
    "- Recursive binary search uses O(log n) space due to the call stack, but the iterative version (shown above) is O(1).\n",
    "\n",
    "#### Considerations:\n",
    "\n",
    "- Use linear search for small or unsorted arrays.\n",
    "- Use binary search for large, sorted arrays to leverage O(log n) efficiency.\n",
    "- In Python, in operator or list.index() uses linear search (O(n))."
   ]
  },
  {
   "cell_type": "markdown",
   "id": "d647f87a-3350-4aec-996d-30ff1d8ae659",
   "metadata": {},
   "source": [
    "### Summary of Array Operations\n",
    "\n",
    "\n",
    "|         Operation        | Time Complexity | Space Complexity |                      Notes                      |   |\n",
    "|:------------------------:|:---------------:|:----------------:|:-----------------------------------------------:|---|\n",
    "| Insert (end)             | O(1) amortized  | O(1) auxiliary   | Fast for dynamic arrays; resizing may occur.    |   |\n",
    "| Insert (beginning/index) | O(n)            | O(1) auxiliary   | Slow due to shifting elements.                  |   |\n",
    "| Delete (end)             | O(1)            | O(1) auxiliary   | Fast, no shifting needed.                       |   |\n",
    "| Delete (beginning/index) | O(n)            | O(1) auxiliary   | Slow due to shifting elements.                  |   |\n",
    "| Delete by value          | O(n)            | O(1) auxiliary   | Includes search time.                           |   |\n",
    "| Linear Search            | O(n)            | O(1) auxiliary   | Simple, works on unsorted arrays.               |   |\n",
    "| Binary Search            | O(log n)        | O(1) iterative   | Requires sorted array, much faster for large n. |   |"
   ]
  },
  {
   "cell_type": "markdown",
   "id": "a26614f1-b1cc-467d-9897-6210fd3e15b4",
   "metadata": {},
   "source": [
    "---\n",
    "---"
   ]
  },
  {
   "cell_type": "markdown",
   "id": "f719cd81-ecf9-4d4b-84b0-1d4216a0d8de",
   "metadata": {},
   "source": [
    "## Task 3: Sliding Window Basics\n",
    "\n",
    "The sliding window technique is a powerful algorithmic approach used to solve problems involving arrays (or strings) where you need to process a subset of elements (a \"window\") that moves across the data. It’s especially useful for problems requiring computations over contiguous subarrays, like finding maximum sums, longest substrings, or specific patterns.\n",
    "\n",
    "### What is Sliding Window?\n",
    "\n",
    "- A window is a contiguous subarray (or substring) of fixed or variable size.\n",
    "\n",
    "- The window \"slides\" across the array by moving its start and end points, processing elements within it.\n",
    "\n",
    "- Types:\n",
    "\n",
    "    - Fixed-Size Window: The window has a constant size (e.g., k elements).\n",
    "    \n",
    "    - Variable-Size Window: The window grows or shrinks based on a condition (e.g., sum < target).\n",
    "\n",
    "\n",
    "- Goal: Optimize by reusing computations from the previous window instead of recomputing everything.\n",
    "\n",
    "\n",
    "### Why Use Sliding Window?\n",
    "\n",
    "- Efficiency: Reduces time complexity from O(n²) (naive nested loops) to O(n) by avoiding redundant work.\n",
    "\n",
    "- Applications: Common in problems like:\n",
    "\n",
    "    - Maximum/minimum sum of k consecutive elements.\n",
    "    - Longest subarray with a given property (e.g., sum ≤ target).\n",
    "    - String matching or substring problems.\n",
    "\n",
    "### How It Works\n",
    "\n",
    "- Initialize the Window: Start with a window (fixed or variable size) at the beginning of the array.\n",
    "  \n",
    "- Slide the Window:\n",
    "\n",
    "    - Move the window’s end to include new elements (expand).\n",
    "    - Move the window’s start to exclude elements (shrink), if needed.\n",
    "\n",
    "\n",
    "- Compute and Track: Update results (e.g., sum, max) as the window moves, reusing previous calculations.\n",
    "\n",
    "-Optimize: Use variables to track window properties (e.g., sum) instead of recalculating.\n",
    "\n",
    "### Fixed-Size Sliding Window Example\n",
    "#### Problem: Find the maximum sum of any contiguous subarray of size k."
   ]
  },
  {
   "cell_type": "code",
   "execution_count": 11,
   "id": "d0b4b320-4c71-4c02-bc29-0658e6e22dc3",
   "metadata": {},
   "outputs": [
    {
     "name": "stdout",
     "output_type": "stream",
     "text": [
      "24\n"
     ]
    }
   ],
   "source": [
    "def max_sum_sliding_window(arr, k):\n",
    "    if k > len(arr):\n",
    "        return None\n",
    "    # Initialize window sum for first k elements\n",
    "    window_sum = sum(arr[:k])\n",
    "    max_sum = window_sum\n",
    "    # Slide the window\n",
    "    for i in range(len(arr) - k):\n",
    "        # Remove the first element of previous window, add the next element\n",
    "        window_sum = window_sum - arr[i] + arr[i + k]\n",
    "        max_sum = max(max_sum, window_sum)\n",
    "    return max_sum\n",
    "\n",
    "# Example\n",
    "arr = [1, 4, 2, 10, 2, 3, 1, 0, 20]\n",
    "k = 4\n",
    "print(max_sum_sliding_window(arr, k))  # Output: 24 (sum of [4, 2, 10, 2])"
   ]
  },
  {
   "cell_type": "markdown",
   "id": "76dddace-20ee-4ec3-b3ff-0fc7207b8d28",
   "metadata": {},
   "source": [
    "- How It Works:\n",
    "\n",
    "    - Compute sum of first k elements (e.g., [1, 4, 2, 10] = 17).\n",
    "    - Slide: Subtract the first element (1), add the next (2) → new sum = 17 - 1 + 2 = 18.\n",
    "    - Continue sliding, updating max_sum.\n",
    "\n",
    "- Time Complexity: O(n). Initial sum is O(k), then n-k iterations of O(1) updates.\n",
    "- Space Complexity: O(1). Only stores window_sum and max_sum.\n",
    "- Why Efficient?: Naive approach (checking every subarray of size k) is O(n*k). Sliding window avoids recomputing sums.\n",
    "\n",
    "### Variable-Size Sliding Window Example\n",
    "#### Problem: Find the longest subarray with a sum ≤ target."
   ]
  },
  {
   "cell_type": "code",
   "execution_count": 12,
   "id": "974da8d0-ff90-4d8c-a521-fea4b9c580c0",
   "metadata": {},
   "outputs": [
    {
     "name": "stdout",
     "output_type": "stream",
     "text": [
      "4\n"
     ]
    }
   ],
   "source": [
    "def longest_subarray_with_sum(arr, target):\n",
    "    curr_sum = 0\n",
    "    max_length = 0\n",
    "    start = 0\n",
    "    for end in range(len(arr)):\n",
    "        curr_sum += arr[end]  # Expand window\n",
    "        # Shrink window while sum exceeds target\n",
    "        while curr_sum > target and start <= end:\n",
    "            curr_sum -= arr[start]\n",
    "            start += 1\n",
    "        max_length = max(max_length, end - start + 1)\n",
    "    return max_length\n",
    "\n",
    "# Example\n",
    "arr = [1, 2, 3, 4, 5]\n",
    "target = 12\n",
    "print(longest_subarray_with_sum(arr, target))  # Output: 4 (subarray [1, 2, 3, 4])"
   ]
  },
  {
   "cell_type": "markdown",
   "id": "ebf50cd3-4546-4fed-8920-08bd10da1dfb",
   "metadata": {},
   "source": [
    "- How It Works:\n",
    "\n",
    "    - Expand window by adding elements to curr_sum.\n",
    "    - If curr_sum > target, shrink by moving start forward and subtracting.\n",
    "    - Track the longest valid window (end - start + 1).\n",
    "\n",
    "\n",
    "- Time Complexity: O(n). Each element is added (end moves) and removed (start moves) at most once.\n",
    "- Space Complexity: O(1). Only uses a few variables.\n",
    "- Why Efficient?: Naive approach (checking all subarrays) is O(n²). Sliding window ensures each element is processed minimally."
   ]
  },
  {
   "cell_type": "markdown",
   "id": "4c7a5ea4-7d24-406f-b9e4-cb5ef93b1397",
   "metadata": {},
   "source": [
    "---\n",
    "---\n",
    "\n",
    "## Practice Leet Code Problem No 121 Best Time to Buy and Sell Stock"
   ]
  },
  {
   "cell_type": "code",
   "execution_count": 14,
   "id": "79f15017-1815-4633-8053-693eed341dbd",
   "metadata": {},
   "outputs": [
    {
     "name": "stdout",
     "output_type": "stream",
     "text": [
      "5\n"
     ]
    }
   ],
   "source": [
    "class Solution:\n",
    "    def maxProfit(self, prices):\n",
    "        l, r = 0, 1\n",
    "        maxP = 0\n",
    "        while r < len(prices):\n",
    "            if prices[l] < prices[r]:\n",
    "                profit = prices[r] - prices[l]\n",
    "                maxP = max(maxP, profit)\n",
    "            else:\n",
    "                l = r\n",
    "            r += 1\n",
    "        return maxP\n",
    "\n",
    "prices = [7,1,5,3,6,4] # Output : 5\n",
    "sol = Solution()\n",
    "print(sol.maxProfit(prices))"
   ]
  },
  {
   "cell_type": "markdown",
   "id": "4fc3bb1b-eeae-4fe9-8baf-1dd9922b267b",
   "metadata": {},
   "source": [
    "---\n",
    "---\n",
    "\n",
    "## Project: Array Stats Calculator\n",
    "\n",
    "- Input: List of numbers.\n",
    "- Output: Min, Max, Mean, Median."
   ]
  },
  {
   "cell_type": "code",
   "execution_count": 17,
   "id": "8429b073-d24c-4bfc-a42c-e8ae0fc9fe66",
   "metadata": {},
   "outputs": [
    {
     "name": "stdout",
     "output_type": "stream",
     "text": [
      "Array Statistics:\n",
      "Input: [4, 2, 7, 1, 9, 5, 3]\n",
      "Minimum: 1\n",
      "Maximum: 9\n",
      "Mean: 4.43\n",
      "Median: 4.00\n"
     ]
    }
   ],
   "source": [
    "# TODO 1 => Define a function to calculate the minimum value\n",
    "def minimum(numbers):\n",
    "    return min(numbers)\n",
    "    \n",
    "# TODO 2 => Define a function to calculate the maximum value\n",
    "def maximum(numbers):\n",
    "    return max(numbers)\n",
    "    \n",
    "# TODO 3 => Define a function to calculate the mean\n",
    "def mean(numbers):\n",
    "    return sum(numbers) / len(numbers)\n",
    "    \n",
    "# TODO 4 => Define a function to calculate the median\n",
    "def median(numbers):\n",
    "    sorted_numbers = sorted(numbers)\n",
    "    n = len(sorted_numbers)\n",
    "    mid = n // 2\n",
    "    if n % 2 == 0:\n",
    "        return (sorted_numbers[mid-1] + sorted_numbers[mid]) / 2\n",
    "    else:\n",
    "        return sorted_numbers[mid]\n",
    "    \n",
    "# Main function to calculate and display all statistics\n",
    "def array_stats_calculator(numbers):\n",
    "    if not numbers:\n",
    "        return None\n",
    "    print(\"Array Statistics:\")\n",
    "    print(f\"Input: {numbers}\")\n",
    "    print(f\"Minimum: {minimum(numbers)}\")\n",
    "    print(f\"Maximum: {maximum(numbers)}\")\n",
    "    print(f\"Mean: {mean(numbers):.2f}\")\n",
    "    print(f\"Median: {median(numbers):.2f}\")\n",
    "\n",
    "numbers = [4, 2, 7, 1, 9, 5, 3]\n",
    "array_stats_calculator(numbers)"
   ]
  },
  {
   "cell_type": "markdown",
   "id": "730c7803-32b5-45b1-a9a8-1f7692335602",
   "metadata": {},
   "source": [
    "---\n",
    "---"
   ]
  },
  {
   "cell_type": "code",
   "execution_count": null,
   "id": "247cd647-bb15-4cc8-a06c-3355a1407769",
   "metadata": {},
   "outputs": [],
   "source": []
  }
 ],
 "metadata": {
  "kernelspec": {
   "display_name": "Python 3 (ipykernel)",
   "language": "python",
   "name": "python3"
  },
  "language_info": {
   "codemirror_mode": {
    "name": "ipython",
    "version": 3
   },
   "file_extension": ".py",
   "mimetype": "text/x-python",
   "name": "python",
   "nbconvert_exporter": "python",
   "pygments_lexer": "ipython3",
   "version": "3.13.5"
  }
 },
 "nbformat": 4,
 "nbformat_minor": 5
}
